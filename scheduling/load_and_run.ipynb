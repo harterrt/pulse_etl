{
 "cells": [
  {
   "cell_type": "code",
   "execution_count": 4,
   "metadata": {
    "collapsed": false
   },
   "outputs": [],
   "source": [
    "import os\n",
    "distpath = '../../pulse_etl' + '/dist'\n",
    "sc.addPyFile(os.path.join(distpath, os.listdir(distpath)[0]))"
   ]
  },
  {
   "cell_type": "code",
   "execution_count": 5,
   "metadata": {
    "collapsed": false,
    "scrolled": true
   },
   "outputs": [
    {
     "name": "stdout",
     "output_type": "stream",
     "text": [
      "Unable to parse whitelist (/mnt/anaconda2/lib/python2.7/site-packages/moztelemetry/histogram-whitelists.json). Assuming all histograms are acceptable.\n"
     ]
    },
    {
     "data": {
      "text/plain": [
       "DataFrame[method: string, id: string, type: string, object: string, category: string, variant: string, details: string, sentiment: int, reason: string, adBlocker: boolean, addons: array<string>, channel: string, hostname: string, language: string, openTabs: int, openWindows: int, platform: string, protocol: string, telemetryId: string, timerContentLoaded: bigint, timerFirstInteraction: bigint, timerFirstPaint: bigint, timerWindowLoad: bigint, inner_timestamp: bigint, fx_version: string, creation_date: timestamp, test: string, variants: string, timestamp: bigint, version: string]"
      ]
     },
     "execution_count": 5,
     "metadata": {},
     "output_type": "execute_result"
    }
   ],
   "source": [
    "import pulse_etl\n",
    "pulse_etl.etl_job(sc, sqlContext)"
   ]
  },
  {
   "cell_type": "code",
   "execution_count": 6,
   "metadata": {
    "collapsed": false
   },
   "outputs": [
    {
     "data": {
      "text/plain": [
       "'../../pulse_etl/dist/pulse_etl-0.1-py2.7.egg'"
      ]
     },
     "execution_count": 6,
     "metadata": {},
     "output_type": "execute_result"
    }
   ],
   "source": [
    "os.path.join(distpath, os.listdir(distpath)[0])"
   ]
  }
 ],
 "metadata": {
  "anaconda-cloud": {},
  "kernelspec": {
   "display_name": "Python [conda root]",
   "language": "python",
   "name": "conda-root-py"
  },
  "language_info": {
   "codemirror_mode": {
    "name": "ipython",
    "version": 2
   },
   "file_extension": ".py",
   "mimetype": "text/x-python",
   "name": "python",
   "nbconvert_exporter": "python",
   "pygments_lexer": "ipython2",
   "version": "2.7.12"
  }
 },
 "nbformat": 4,
 "nbformat_minor": 1
}
